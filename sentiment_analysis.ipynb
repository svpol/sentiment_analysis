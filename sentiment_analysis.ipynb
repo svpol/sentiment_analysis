{
 "cells": [
  {
   "cell_type": "markdown",
   "id": "18027eef",
   "metadata": {},
   "source": [
    "# Sentiment analysis based on BOW and TF-IDF"
   ]
  },
  {
   "cell_type": "code",
   "execution_count": 78,
   "id": "d0dd9658",
   "metadata": {},
   "outputs": [],
   "source": [
    "import pandas as pd\n",
    "\n",
    "import re\n",
    "\n",
    "# import nltk\n",
    "# nltk.download('punkt')\n",
    "# nltk.download('stopwords')\n",
    "# nltk.download('wordnet')\n",
    "# nltk.download('omw-1.4')\n",
    "from nltk.corpus import stopwords\n",
    "from nltk.tokenize import word_tokenize\n",
    "from nltk.stem import WordNetLemmatizer\n",
    "\n",
    "from sklearn.model_selection import train_test_split\n",
    "from sklearn.feature_extraction.text import CountVectorizer, TfidfVectorizer\n",
    "from sklearn.naive_bayes import MultinomialNB\n",
    "from sklearn.linear_model import LogisticRegression\n",
    "from sklearn.ensemble import RandomForestClassifier\n",
    "from sklearn.metrics import accuracy_score"
   ]
  },
  {
   "cell_type": "code",
   "execution_count": 12,
   "id": "6525cc76",
   "metadata": {},
   "outputs": [],
   "source": [
    "RANDOM_STATE = 42"
   ]
  },
  {
   "cell_type": "markdown",
   "id": "fb5a70a4",
   "metadata": {},
   "source": [
    "## 1. About the data"
   ]
  },
  {
   "cell_type": "markdown",
   "id": "8b490d8f",
   "metadata": {},
   "source": [
    "The data is taken from https://www.kaggle.com/datasets/yasserh/imdb-movie-ratings-sentiment-analysis.\n",
    "It has two columns:\n",
    "1. \"text\" - film reviews from IMDB, string;\n",
    "2. \"label\" - int: 0 if the review was negative, 1 if the review was positive."
   ]
  },
  {
   "cell_type": "code",
   "execution_count": 13,
   "id": "554ed0dd",
   "metadata": {},
   "outputs": [],
   "source": [
    "reviews = pd.read_csv('movie.csv')"
   ]
  },
  {
   "cell_type": "code",
   "execution_count": 14,
   "id": "f99efcf5",
   "metadata": {},
   "outputs": [
    {
     "data": {
      "text/html": [
       "<div>\n",
       "<style scoped>\n",
       "    .dataframe tbody tr th:only-of-type {\n",
       "        vertical-align: middle;\n",
       "    }\n",
       "\n",
       "    .dataframe tbody tr th {\n",
       "        vertical-align: top;\n",
       "    }\n",
       "\n",
       "    .dataframe thead th {\n",
       "        text-align: right;\n",
       "    }\n",
       "</style>\n",
       "<table border=\"1\" class=\"dataframe\">\n",
       "  <thead>\n",
       "    <tr style=\"text-align: right;\">\n",
       "      <th></th>\n",
       "      <th>text</th>\n",
       "      <th>label</th>\n",
       "    </tr>\n",
       "  </thead>\n",
       "  <tbody>\n",
       "    <tr>\n",
       "      <th>0</th>\n",
       "      <td>I grew up (b. 1965) watching and loving the Th...</td>\n",
       "      <td>0</td>\n",
       "    </tr>\n",
       "    <tr>\n",
       "      <th>1</th>\n",
       "      <td>When I put this movie in my DVD player, and sa...</td>\n",
       "      <td>0</td>\n",
       "    </tr>\n",
       "    <tr>\n",
       "      <th>2</th>\n",
       "      <td>Why do people who do not know what a particula...</td>\n",
       "      <td>0</td>\n",
       "    </tr>\n",
       "    <tr>\n",
       "      <th>3</th>\n",
       "      <td>Even though I have great interest in Biblical ...</td>\n",
       "      <td>0</td>\n",
       "    </tr>\n",
       "    <tr>\n",
       "      <th>4</th>\n",
       "      <td>Im a die hard Dads Army fan and nothing will e...</td>\n",
       "      <td>1</td>\n",
       "    </tr>\n",
       "  </tbody>\n",
       "</table>\n",
       "</div>"
      ],
      "text/plain": [
       "                                                text  label\n",
       "0  I grew up (b. 1965) watching and loving the Th...      0\n",
       "1  When I put this movie in my DVD player, and sa...      0\n",
       "2  Why do people who do not know what a particula...      0\n",
       "3  Even though I have great interest in Biblical ...      0\n",
       "4  Im a die hard Dads Army fan and nothing will e...      1"
      ]
     },
     "execution_count": 14,
     "metadata": {},
     "output_type": "execute_result"
    }
   ],
   "source": [
    "reviews.head()"
   ]
  },
  {
   "cell_type": "markdown",
   "id": "dcddeafc",
   "metadata": {},
   "source": [
    "## 2. Data preprocessing"
   ]
  },
  {
   "cell_type": "code",
   "execution_count": 15,
   "id": "17ffc9b3",
   "metadata": {},
   "outputs": [],
   "source": [
    "def prepare_stopwords(language='english'):\n",
    "    \"\"\"\n",
    "    Prepares stopwords for a given language.\n",
    "    \"\"\"\n",
    "    stop_words = stopwords.words(language)\n",
    "    if language == 'english':\n",
    "        stop_words.remove('not')\n",
    "        stop_words.remove('no')\n",
    "    return stop_words"
   ]
  },
  {
   "cell_type": "code",
   "execution_count": 16,
   "id": "34163286",
   "metadata": {},
   "outputs": [],
   "source": [
    "def preprocess_string(text):\n",
    "    \"\"\"\n",
    "    Preprocesses the text string in English for further BOW or TF-IDF analysis.\n",
    "    After the preprocessing the string contains words only and is lower-cased, tokenized, \n",
    "    without stop words and lemmatized.\n",
    "    param text: string to preprocess.\n",
    "    return: a preprocessed string.\n",
    "    \"\"\"\n",
    "    \n",
    "    text = re.sub('[^a-zA-Z0-9]+', ' ', text)\n",
    "    \n",
    "    text = text.lower()\n",
    "    \n",
    "    tokens = word_tokenize(text)\n",
    "    \n",
    "    stop_words = prepare_stopwords()\n",
    "    text = [word for word in tokens if word not in stop_words]\n",
    "    \n",
    "    lemmatizer = WordNetLemmatizer()\n",
    "    text = [lemmatizer.lemmatize(word) for word in text]\n",
    "    \n",
    "    text = ' '.join(text)\n",
    "    \n",
    "    return text"
   ]
  },
  {
   "cell_type": "code",
   "execution_count": 17,
   "id": "3f7699ae",
   "metadata": {},
   "outputs": [],
   "source": [
    "reviews['preprocessed_text'] = reviews['text'].apply(lambda text: preprocess_string(text))"
   ]
  },
  {
   "cell_type": "code",
   "execution_count": 18,
   "id": "255a7c4a",
   "metadata": {},
   "outputs": [
    {
     "data": {
      "text/html": [
       "<div>\n",
       "<style scoped>\n",
       "    .dataframe tbody tr th:only-of-type {\n",
       "        vertical-align: middle;\n",
       "    }\n",
       "\n",
       "    .dataframe tbody tr th {\n",
       "        vertical-align: top;\n",
       "    }\n",
       "\n",
       "    .dataframe thead th {\n",
       "        text-align: right;\n",
       "    }\n",
       "</style>\n",
       "<table border=\"1\" class=\"dataframe\">\n",
       "  <thead>\n",
       "    <tr style=\"text-align: right;\">\n",
       "      <th></th>\n",
       "      <th>text</th>\n",
       "      <th>label</th>\n",
       "      <th>preprocessed_text</th>\n",
       "    </tr>\n",
       "  </thead>\n",
       "  <tbody>\n",
       "    <tr>\n",
       "      <th>0</th>\n",
       "      <td>I grew up (b. 1965) watching and loving the Th...</td>\n",
       "      <td>0</td>\n",
       "      <td>grew b 1965 watching loving thunderbird mate s...</td>\n",
       "    </tr>\n",
       "    <tr>\n",
       "      <th>1</th>\n",
       "      <td>When I put this movie in my DVD player, and sa...</td>\n",
       "      <td>0</td>\n",
       "      <td>put movie dvd player sat coke chip expectation...</td>\n",
       "    </tr>\n",
       "    <tr>\n",
       "      <th>2</th>\n",
       "      <td>Why do people who do not know what a particula...</td>\n",
       "      <td>0</td>\n",
       "      <td>people not know particular time past like feel...</td>\n",
       "    </tr>\n",
       "    <tr>\n",
       "      <th>3</th>\n",
       "      <td>Even though I have great interest in Biblical ...</td>\n",
       "      <td>0</td>\n",
       "      <td>even though great interest biblical movie bore...</td>\n",
       "    </tr>\n",
       "    <tr>\n",
       "      <th>4</th>\n",
       "      <td>Im a die hard Dads Army fan and nothing will e...</td>\n",
       "      <td>1</td>\n",
       "      <td>im die hard dad army fan nothing ever change g...</td>\n",
       "    </tr>\n",
       "  </tbody>\n",
       "</table>\n",
       "</div>"
      ],
      "text/plain": [
       "                                                text  label  \\\n",
       "0  I grew up (b. 1965) watching and loving the Th...      0   \n",
       "1  When I put this movie in my DVD player, and sa...      0   \n",
       "2  Why do people who do not know what a particula...      0   \n",
       "3  Even though I have great interest in Biblical ...      0   \n",
       "4  Im a die hard Dads Army fan and nothing will e...      1   \n",
       "\n",
       "                                   preprocessed_text  \n",
       "0  grew b 1965 watching loving thunderbird mate s...  \n",
       "1  put movie dvd player sat coke chip expectation...  \n",
       "2  people not know particular time past like feel...  \n",
       "3  even though great interest biblical movie bore...  \n",
       "4  im die hard dad army fan nothing ever change g...  "
      ]
     },
     "execution_count": 18,
     "metadata": {},
     "output_type": "execute_result"
    }
   ],
   "source": [
    "reviews.head()"
   ]
  },
  {
   "cell_type": "markdown",
   "id": "379f3fb4",
   "metadata": {},
   "source": [
    "## 3. Splitting the data to train and test parts"
   ]
  },
  {
   "cell_type": "code",
   "execution_count": 19,
   "id": "5472a218",
   "metadata": {},
   "outputs": [],
   "source": [
    "X = reviews.drop(['label'], axis=1)\n",
    "y = reviews['label']"
   ]
  },
  {
   "cell_type": "code",
   "execution_count": 20,
   "id": "42489a14",
   "metadata": {},
   "outputs": [],
   "source": [
    "X_train, X_test, y_train, y_test = train_test_split(X, y, test_size = 0.33, random_state=RANDOM_STATE, stratify=y)"
   ]
  },
  {
   "cell_type": "markdown",
   "id": "b2797a5d",
   "metadata": {},
   "source": [
    "## 4. Text vectorizing"
   ]
  },
  {
   "cell_type": "markdown",
   "id": "b96385b9",
   "metadata": {},
   "source": [
    "### 4.1. BOW vectorizing"
   ]
  },
  {
   "cell_type": "code",
   "execution_count": 21,
   "id": "9948ae4b",
   "metadata": {},
   "outputs": [],
   "source": [
    "bow_vect = CountVectorizer()"
   ]
  },
  {
   "cell_type": "code",
   "execution_count": 22,
   "id": "a7911383",
   "metadata": {},
   "outputs": [],
   "source": [
    "X_train_bow = bow_vect.fit_transform(X_train['preprocessed_text'])\n",
    "X_test_bow = bow_vect.transform(X_test['preprocessed_text'])"
   ]
  },
  {
   "cell_type": "markdown",
   "id": "41d2f286",
   "metadata": {},
   "source": [
    "### 4.2. TF-IDF vectorizing"
   ]
  },
  {
   "cell_type": "code",
   "execution_count": 23,
   "id": "ecb494cc",
   "metadata": {},
   "outputs": [],
   "source": [
    "tfidf_vect = TfidfVectorizer()"
   ]
  },
  {
   "cell_type": "code",
   "execution_count": 24,
   "id": "0d3de059",
   "metadata": {},
   "outputs": [],
   "source": [
    "X_train_tfidf = tfidf_vect.fit_transform(X_train['preprocessed_text'])\n",
    "X_test_tfidf = tfidf_vect.transform(X_test['preprocessed_text'])"
   ]
  },
  {
   "cell_type": "markdown",
   "id": "dc542184",
   "metadata": {},
   "source": [
    "## 5. ML models"
   ]
  },
  {
   "cell_type": "markdown",
   "id": "1cbb9af6",
   "metadata": {},
   "source": [
    "### 5.1. Naive Bayes classifier"
   ]
  },
  {
   "cell_type": "code",
   "execution_count": 25,
   "id": "a0b25322",
   "metadata": {},
   "outputs": [],
   "source": [
    "nb_clf = MultinomialNB()"
   ]
  },
  {
   "cell_type": "markdown",
   "id": "1927dfd4",
   "metadata": {},
   "source": [
    "#### 5.1.1. BOW Naive Bayes"
   ]
  },
  {
   "cell_type": "code",
   "execution_count": 26,
   "id": "647518b0",
   "metadata": {},
   "outputs": [
    {
     "data": {
      "text/plain": [
       "MultinomialNB()"
      ]
     },
     "execution_count": 26,
     "metadata": {},
     "output_type": "execute_result"
    }
   ],
   "source": [
    "nb_clf.fit(X_train_bow, y_train)"
   ]
  },
  {
   "cell_type": "code",
   "execution_count": 27,
   "id": "9dea308f",
   "metadata": {},
   "outputs": [],
   "source": [
    "y_pred_bow_nb = nb_clf.predict(X_test_bow)"
   ]
  },
  {
   "cell_type": "code",
   "execution_count": 28,
   "id": "2948e0ab",
   "metadata": {},
   "outputs": [
    {
     "data": {
      "text/plain": [
       "0.8556818181818182"
      ]
     },
     "execution_count": 28,
     "metadata": {},
     "output_type": "execute_result"
    }
   ],
   "source": [
    "accuracy_score(y_test, y_pred_bow_nb) # 0.8556818181818182"
   ]
  },
  {
   "cell_type": "markdown",
   "id": "ebdec7d4",
   "metadata": {},
   "source": [
    "#### 5.1.2. TF-IDF Naive Bayes"
   ]
  },
  {
   "cell_type": "code",
   "execution_count": 29,
   "id": "67317a93",
   "metadata": {},
   "outputs": [
    {
     "data": {
      "text/plain": [
       "MultinomialNB()"
      ]
     },
     "execution_count": 29,
     "metadata": {},
     "output_type": "execute_result"
    }
   ],
   "source": [
    "nb_clf.fit(X_train_tfidf, y_train)"
   ]
  },
  {
   "cell_type": "code",
   "execution_count": 30,
   "id": "09305760",
   "metadata": {},
   "outputs": [],
   "source": [
    "y_pred_tfidf_nb = nb_clf.predict(X_test_tfidf)"
   ]
  },
  {
   "cell_type": "code",
   "execution_count": 31,
   "id": "740f24dd",
   "metadata": {},
   "outputs": [
    {
     "data": {
      "text/plain": [
       "0.8642424242424243"
      ]
     },
     "execution_count": 31,
     "metadata": {},
     "output_type": "execute_result"
    }
   ],
   "source": [
    "accuracy_score(y_test, y_pred_tfidf_nb) # 0.8642424242424243"
   ]
  },
  {
   "cell_type": "markdown",
   "id": "7f17a71c",
   "metadata": {},
   "source": [
    "## 5.2. Logistic regression"
   ]
  },
  {
   "cell_type": "markdown",
   "id": "45126dda",
   "metadata": {},
   "source": [
    "#### 5.2.1. TF-IDF logistic regression"
   ]
  },
  {
   "cell_type": "code",
   "execution_count": 32,
   "id": "1bae00ad",
   "metadata": {},
   "outputs": [],
   "source": [
    "log_clf = LogisticRegression()"
   ]
  },
  {
   "cell_type": "code",
   "execution_count": 33,
   "id": "da827ea2",
   "metadata": {},
   "outputs": [
    {
     "data": {
      "text/plain": [
       "LogisticRegression()"
      ]
     },
     "execution_count": 33,
     "metadata": {},
     "output_type": "execute_result"
    }
   ],
   "source": [
    "log_clf.fit(X_train_tfidf, y_train)"
   ]
  },
  {
   "cell_type": "code",
   "execution_count": 34,
   "id": "6e7bb48b",
   "metadata": {},
   "outputs": [],
   "source": [
    "y_pred_tfidf_log = log_clf.predict(X_test_tfidf)"
   ]
  },
  {
   "cell_type": "code",
   "execution_count": 35,
   "id": "d864c896",
   "metadata": {},
   "outputs": [
    {
     "data": {
      "text/plain": [
       "0.89"
      ]
     },
     "execution_count": 35,
     "metadata": {},
     "output_type": "execute_result"
    }
   ],
   "source": [
    "accuracy_score(y_test, y_pred_tfidf_log) # 0.89 - best result"
   ]
  },
  {
   "cell_type": "markdown",
   "id": "414c0137",
   "metadata": {},
   "source": [
    "## 5.3. Random forest"
   ]
  },
  {
   "cell_type": "code",
   "execution_count": 36,
   "id": "06db4e43",
   "metadata": {},
   "outputs": [],
   "source": [
    "rf_clf = RandomForestClassifier()"
   ]
  },
  {
   "cell_type": "markdown",
   "id": "3dc63f84",
   "metadata": {},
   "source": [
    "#### 5.3.1. BOW random forest"
   ]
  },
  {
   "cell_type": "code",
   "execution_count": 37,
   "id": "25a0e6b5",
   "metadata": {},
   "outputs": [
    {
     "data": {
      "text/plain": [
       "RandomForestClassifier()"
      ]
     },
     "execution_count": 37,
     "metadata": {},
     "output_type": "execute_result"
    }
   ],
   "source": [
    "rf_clf.fit(X_train_bow, y_train)"
   ]
  },
  {
   "cell_type": "code",
   "execution_count": 38,
   "id": "3514c492",
   "metadata": {},
   "outputs": [],
   "source": [
    "y_pred_bow_rf = rf_clf.predict(X_test_bow)"
   ]
  },
  {
   "cell_type": "code",
   "execution_count": 40,
   "id": "ff64c97c",
   "metadata": {},
   "outputs": [
    {
     "data": {
      "text/plain": [
       "0.8567424242424242"
      ]
     },
     "execution_count": 40,
     "metadata": {},
     "output_type": "execute_result"
    }
   ],
   "source": [
    "accuracy_score(y_test, y_pred_bow_rf) # 0.8567424242424242"
   ]
  },
  {
   "cell_type": "markdown",
   "id": "f22e36a9",
   "metadata": {},
   "source": [
    "#### 5.3.2. TF-IDF random forest"
   ]
  },
  {
   "cell_type": "code",
   "execution_count": 41,
   "id": "ac7d00bd",
   "metadata": {},
   "outputs": [
    {
     "data": {
      "text/plain": [
       "RandomForestClassifier()"
      ]
     },
     "execution_count": 41,
     "metadata": {},
     "output_type": "execute_result"
    }
   ],
   "source": [
    "rf_clf.fit(X_train_tfidf, y_train)"
   ]
  },
  {
   "cell_type": "code",
   "execution_count": 42,
   "id": "97a4fbc1",
   "metadata": {},
   "outputs": [],
   "source": [
    "y_pred_tfidf_rf = rf_clf.predict(X_test_tfidf)"
   ]
  },
  {
   "cell_type": "code",
   "execution_count": 44,
   "id": "00b6f832",
   "metadata": {},
   "outputs": [
    {
     "data": {
      "text/plain": [
       "0.8528787878787879"
      ]
     },
     "execution_count": 44,
     "metadata": {},
     "output_type": "execute_result"
    }
   ],
   "source": [
    "accuracy_score(y_test, y_pred_tfidf_rf) # 0.8528787878787879"
   ]
  }
 ],
 "metadata": {
  "kernelspec": {
   "display_name": "Python 3 (ipykernel)",
   "language": "python",
   "name": "python3"
  },
  "language_info": {
   "codemirror_mode": {
    "name": "ipython",
    "version": 3
   },
   "file_extension": ".py",
   "mimetype": "text/x-python",
   "name": "python",
   "nbconvert_exporter": "python",
   "pygments_lexer": "ipython3",
   "version": "3.9.13"
  }
 },
 "nbformat": 4,
 "nbformat_minor": 5
}
